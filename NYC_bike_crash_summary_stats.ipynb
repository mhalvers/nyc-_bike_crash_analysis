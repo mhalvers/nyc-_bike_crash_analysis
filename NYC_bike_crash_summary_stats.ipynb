{
 "cells": [
  {
   "cell_type": "markdown",
   "metadata": {},
   "source": [
    "# NYC bike crash EDA and summary stats"
   ]
  },
  {
   "cell_type": "markdown",
   "metadata": {},
   "source": [
    "some code to explore the data in the NYC motor vehicle crash data set\n",
    "data was downloaded from a query from here: \n",
    "https://data.cityofnewyork.us/Public-Safety/Motor-Vehicle-Collisions-Crashes/h9gi-nx95/data\n",
    "\n",
    "the query parameters I used were:\n",
    "\n",
    "column, condition, value\n",
    "\n",
    "NUMBER OF CYCLIST INJURED, is at least, 1\n",
    "\n",
    "NUMBER OF CYCLIST KILLED,  is at least, 1\n",
    "\n",
    "VEHICLE TYPE CODE (1 - 5), contains, bike or bicycle\n",
    "\n",
    "\"motorbike\" was sometimes returned as a match in VEHICLE TYPE\n",
    "\n",
    "\n",
    "Each condition was \"or'ed\" with the others.  In other words, only one condition had to be true to return a row."
   ]
  },
  {
   "cell_type": "markdown",
   "metadata": {},
   "source": [
    "More data about the people in the collisions might be gotten here:\n",
    "https://data.cityofnewyork.us/Public-Safety/Motor-Vehicle-Collisions-Person/f55k-p6yu/data\n",
    "\n",
    "More data about the vehicles in the collisions might be gotten here:\n",
    "https://data.cityofnewyork.us/Public-Safety/Motor-Vehicle-Collisions-Vehicles/bm4k-52h4/data"
   ]
  },
  {
   "cell_type": "markdown",
   "metadata": {},
   "source": [
    "The columns are described here:  MVCollisionsDataDictionary_20190813_ERD.xlsx"
   ]
  },
  {
   "cell_type": "code",
   "execution_count": null,
   "metadata": {},
   "outputs": [],
   "source": [
    "# the usual\n",
    "import pandas as pd\n",
    "import numpy as np\n",
    "import matplotlib.pyplot as plt\n",
    "import warnings\n",
    "warnings.filterwarnings(\"ignore\")\n",
    "\n",
    "# my utilities\n",
    "from crash_utils.zip_code_and_borough_from_coords import zip_code_and_borough_from_coords\n",
    "from crash_utils.fix_vehicle_names import fix_vehicle_names\n",
    "from crash_utils.make_crash_features import make_crash_features\n",
    "from crash_utils.basic_cleaning import basic_cleaning"
   ]
  },
  {
   "cell_type": "code",
   "execution_count": null,
   "metadata": {},
   "outputs": [],
   "source": [
    "data_path = \"/Users/Mark/brainstation/capstone/nyc_bike_crash_analysis/data/\"\n",
    "data_file_with_path = data_path + \"Motor_Vehicle_Collisions_-_Crashes.csv\"\n",
    "df = pd.read_csv(data_file_with_path)"
   ]
  },
  {
   "cell_type": "code",
   "execution_count": null,
   "metadata": {},
   "outputs": [],
   "source": [
    "# fill in missing zip coded and boroughs using lat/lon\n",
    "df = zip_code_and_borough_from_coords(df)"
   ]
  },
  {
   "cell_type": "code",
   "execution_count": null,
   "metadata": {},
   "outputs": [],
   "source": [
    "# perform some basic data munging operations \n",
    "df = basic_cleaning(df)"
   ]
  },
  {
   "cell_type": "code",
   "execution_count": null,
   "metadata": {},
   "outputs": [],
   "source": [
    "# clean up the VEHICLE TYPE CODE columns\n",
    "df = fix_vehicle_names(df)"
   ]
  },
  {
   "cell_type": "code",
   "execution_count": null,
   "metadata": {},
   "outputs": [],
   "source": [
    "# remove instances where no bike was involved\n",
    "# basically, the row must contain \"bike\", or a cyclist was killed or injured\n",
    "\n",
    "# the bulk of this code simply concatenates the VEHICLE TYPE columns, which is done in \"make_crash_features\"\n",
    "# however it make_crash_features requirs the vehicle names to be fixed.  neither of these happen as early\n",
    "# as when I run \"basic_cleaning.py\"\n",
    "##  NEED TO FIX!\n",
    "\n",
    "col_ind = df.columns.str.match(\"VEHICLE\")\n",
    "cols = df.columns[col_ind]\n",
    "\n",
    "new_str = df[\"VEHICLE TYPE CODE 1\"]\n",
    "for col in cols[1:]:\n",
    "    new_str = new_str.str.cat(df[col], sep = \",\", na_rep = \"\")\n",
    "\n",
    "#df.drop(columns=cols, inplace = True)\n",
    "#df[\"VEHICLES\"] = new_str\n",
    "\n",
    "\n",
    "# what rows contain \"bike\"\n",
    "# has_bike = df[\"VEHICLES\"].str.contains(\"bike\")\n",
    "has_bike = new_str.str.contains(\"bike\")\n",
    "\n",
    "# maybe \"bike\" was recorded in vehicle types.  also check if there is a cyclist injury or death\n",
    "cyclist_mask = (df[\"NUMBER OF CYCLIST INJURED\"] > 0) | (df[\"NUMBER OF CYCLIST KILLED\"] > 0)\n",
    "\n",
    "# combine the masks\n",
    "the_mask = has_bike | cyclist_mask\n",
    "\n",
    "sum(~the_mask)\n",
    "\n",
    "df = df.loc[the_mask]"
   ]
  },
  {
   "cell_type": "code",
   "execution_count": null,
   "metadata": {},
   "outputs": [],
   "source": [
    "# add some features for easier analysis\n",
    "df = make_crash_features(df, drop_featured_columns = False)"
   ]
  },
  {
   "cell_type": "code",
   "execution_count": null,
   "metadata": {},
   "outputs": [],
   "source": [
    "df[\"VEHICLES\"].head(20)"
   ]
  },
  {
   "cell_type": "code",
   "execution_count": null,
   "metadata": {},
   "outputs": [],
   "source": [
    "# now encode the outcome: 0 = no injury, 1 = injury, 2 = fatality\n",
    "\n",
    "# initiate column\n",
    "df[\"outcome\"] = np.nan\n",
    "\n",
    "# no injuries\n",
    "mask = df[\"NUMBER OF CYCLIST INJURED\"] == 0\n",
    "df.loc[mask,\"outcome\"] = 0\n",
    "\n",
    "# injuries only\n",
    "mask = df[\"NUMBER OF CYCLIST INJURED\"] > 0\n",
    "df.loc[mask,\"outcome\"] = 1\n",
    "\n",
    "# fatalities\n",
    "mask = df[\"NUMBER OF CYCLIST KILLED\"] > 0\n",
    "df.loc[mask,\"outcome\"] = 2\n"
   ]
  },
  {
   "cell_type": "code",
   "execution_count": null,
   "metadata": {},
   "outputs": [],
   "source": [
    "#df.head()\n",
    "df.columns"
   ]
  },
  {
   "cell_type": "code",
   "execution_count": null,
   "metadata": {},
   "outputs": [],
   "source": [
    "# remove COLLISION_ID is not cross-referencing with other data files (e.g. - )\n",
    "df.drop(columns=\"COLLISION_ID\", inplace = True)"
   ]
  },
  {
   "cell_type": "code",
   "execution_count": null,
   "metadata": {
    "scrolled": true
   },
   "outputs": [],
   "source": [
    "print(df[\"DATETIME\"].min())\n",
    "print(df[\"DATETIME\"].max())"
   ]
  },
  {
   "cell_type": "code",
   "execution_count": null,
   "metadata": {},
   "outputs": [],
   "source": [
    "# write a clean data file for use with Tableau\n",
    "# df.to_csv(\"data/cleaned_nyc_crash_table.csv\", index = False)"
   ]
  },
  {
   "cell_type": "markdown",
   "metadata": {},
   "source": [
    "# Summary statistics"
   ]
  },
  {
   "cell_type": "markdown",
   "metadata": {},
   "source": [
    "## some basic numbers"
   ]
  },
  {
   "cell_type": "code",
   "execution_count": null,
   "metadata": {},
   "outputs": [],
   "source": [
    "df.shape"
   ]
  },
  {
   "cell_type": "code",
   "execution_count": null,
   "metadata": {},
   "outputs": [],
   "source": [
    "df[\"outcome\"].value_counts().sort_index()"
   ]
  },
  {
   "cell_type": "code",
   "execution_count": null,
   "metadata": {},
   "outputs": [],
   "source": [
    "df[\"NUMBER OF CYCLIST INJURED\"].value_counts().sort_index()"
   ]
  },
  {
   "cell_type": "code",
   "execution_count": null,
   "metadata": {},
   "outputs": [],
   "source": [
    "pd.set_option('display.max_rows', 500)\n",
    "pd.set_option('display.max_columns', 500)\n",
    "#df[df[\"NUMBER OF CYCLIST INJURED\"] == 3]"
   ]
  },
  {
   "cell_type": "code",
   "execution_count": null,
   "metadata": {},
   "outputs": [],
   "source": [
    "df[\"NUMBER OF CYCLIST KILLED\"].value_counts().sort_values(ascending = False)"
   ]
  },
  {
   "cell_type": "code",
   "execution_count": null,
   "metadata": {},
   "outputs": [],
   "source": [
    "# https://www.nytimes.com/2017/10/31/nyregion/police-shooting-lower-manhattan.html\n",
    "df[df[\"NUMBER OF CYCLIST KILLED\"] == 2]"
   ]
  },
  {
   "cell_type": "markdown",
   "metadata": {},
   "source": [
    "## make a nice map showing accidents"
   ]
  },
  {
   "cell_type": "markdown",
   "metadata": {},
   "source": [
    "https://towardsdatascience.com/visualizing-geospatial-data-in-python-e070374fe621"
   ]
  },
  {
   "cell_type": "code",
   "execution_count": null,
   "metadata": {},
   "outputs": [],
   "source": [
    "plt.figure(figsize=(12,12));\n",
    "\n",
    "mask = df[\"NUMBER OF CYCLIST INJURED\"] >0\n",
    "plt.scatter(df.loc[mask,\"LONGITUDE\"],df.loc[mask,\"LATITUDE\"],4);\n",
    "\n",
    "# mask = df[\"NUMBER OF CYCLIST INJURED\"] == 0\n",
    "# plt.scatter(df.loc[mask,\"LONGITUDE\"],df.loc[mask,\"LATITUDE\"],3,'black',alpha = 0.3);\n",
    "\n",
    "mask = df[\"NUMBER OF CYCLIST KILLED\"] >0\n",
    "plt.scatter(df.loc[mask,\"LONGITUDE\"],df.loc[mask,\"LATITUDE\"],50,\"red\");\n",
    "\n",
    "plt.show()"
   ]
  },
  {
   "cell_type": "code",
   "execution_count": null,
   "metadata": {},
   "outputs": [],
   "source": [
    "# breakdown by borough\n",
    "df_print = df.groupby(by=\"BOROUGH\").sum()[[\"NUMBER OF CYCLIST KILLED\",\"NUMBER OF CYCLIST INJURED\"]].sort_values(by = \"NUMBER OF CYCLIST INJURED\", ascending=False)\n",
    "df_print[\"Population\"] = [2559903, 1628706, 2253858, 1418207, 476203]\n",
    "df_print[\"injuries_per_100k\"] = 1e5*df_print[\"NUMBER OF CYCLIST INJURED\"]/df_print[\"Population\"]\n",
    "df_print[\"fatalaties_per_100k\"] = 1e5*df_print[\"NUMBER OF CYCLIST KILLED\"]/df_print[\"Population\"]\n",
    "df_print"
   ]
  },
  {
   "cell_type": "code",
   "execution_count": null,
   "metadata": {},
   "outputs": [],
   "source": [
    "# streets with the most fatalities\n",
    "df.groupby(\"ON STREET NAME\").sum()[\"NUMBER OF CYCLIST KILLED\"].sort_values(ascending=False).head(10)"
   ]
  },
  {
   "cell_type": "code",
   "execution_count": null,
   "metadata": {},
   "outputs": [],
   "source": [
    "# streets with the most injuries\n",
    "df.groupby(\"ON STREET NAME\").sum()[\"NUMBER OF CYCLIST INJURED\"].sort_values(ascending=False).head(10)"
   ]
  },
  {
   "cell_type": "code",
   "execution_count": null,
   "metadata": {},
   "outputs": [],
   "source": [
    "print(\"Percentage of all records occuring at intersections:\",round(100*df[\"is_intersection\"].sum()/df.shape[0]),\"%\")\n",
    "df.groupby(\"is_intersection\").sum()[[\"NUMBER OF CYCLIST INJURED\",\"NUMBER OF CYCLIST KILLED\"]]"
   ]
  },
  {
   "cell_type": "code",
   "execution_count": null,
   "metadata": {},
   "outputs": [],
   "source": [
    "#df.head()"
   ]
  },
  {
   "cell_type": "code",
   "execution_count": null,
   "metadata": {
    "scrolled": true
   },
   "outputs": [],
   "source": [
    "## really need to figure out how to combine the cases of \"taxi bike\" with \"bike taxi\"!!!!!!!!!!!!\n",
    "df[\"VEHICLES\"] = df[\"VEHICLES\"].str.split().apply(np.sort).str.join(sep=\" \")\n",
    "df[\"VEHICLES\"].value_counts().head(20)"
   ]
  },
  {
   "cell_type": "code",
   "execution_count": null,
   "metadata": {},
   "outputs": [],
   "source": [
    "#df[\"VEHICLES\"].head(20).str.split().apply(np.sort).str.join(sep=\" \")"
   ]
  },
  {
   "cell_type": "code",
   "execution_count": null,
   "metadata": {},
   "outputs": [],
   "source": [
    "df.groupby(\"VEHICLES\").sum()[[\"NUMBER OF CYCLIST INJURED\",\"NUMBER OF CYCLIST KILLED\"]].sort_values(by=\"NUMBER OF CYCLIST KILLED\", ascending = False).head(30)"
   ]
  },
  {
   "cell_type": "code",
   "execution_count": null,
   "metadata": {},
   "outputs": [],
   "source": [
    "df.groupby(\"factors\").sum()[[\"NUMBER OF CYCLIST INJURED\",\"NUMBER OF CYCLIST KILLED\"]].sort_values(by=\"NUMBER OF CYCLIST KILLED\", ascending = False).head(30)"
   ]
  },
  {
   "cell_type": "markdown",
   "metadata": {},
   "source": [
    "## time series!"
   ]
  },
  {
   "cell_type": "code",
   "execution_count": null,
   "metadata": {},
   "outputs": [],
   "source": [
    "df.head()"
   ]
  },
  {
   "cell_type": "code",
   "execution_count": null,
   "metadata": {},
   "outputs": [],
   "source": [
    "# hey let's plot a time series!\n",
    "df.resample('M',on=\"DATETIME\",loffset=\"-15D\").sum()[\"NUMBER OF CYCLIST INJURED\"].head(10)"
   ]
  },
  {
   "cell_type": "code",
   "execution_count": null,
   "metadata": {},
   "outputs": [],
   "source": [
    "plt.figure(figsize=(15,6))\n",
    "plt.plot(df.resample('M',on=\"DATETIME\",loffset=\"-15D\").sum()[\"NUMBER OF CYCLIST INJURED\"],marker='o')\n",
    "plt.ylabel(\"Cyclists injured per month\", size = 18);\n",
    "plt.xticks(fontsize=18);\n",
    "plt.yticks(fontsize=18);\n",
    "plt.title(\"Injuries, 2012 - 2020\", size = 20);\n",
    "plt.show()\n",
    "\n",
    "plt.figure(figsize=(15,6))\n",
    "plt.plot(df.resample('M',on=\"DATETIME\",loffset=\"-15D\").sum()[\"NUMBER OF CYCLIST KILLED\"],marker='o')\n",
    "plt.ylabel(\"Cyclists killed per month\", size = 18);\n",
    "plt.xticks(fontsize=18);\n",
    "plt.yticks(fontsize=18);\n",
    "plt.title(\"Fatalities, 2012 - 2020\", size = 20);\n",
    "plt.show()"
   ]
  },
  {
   "cell_type": "code",
   "execution_count": null,
   "metadata": {},
   "outputs": [],
   "source": [
    "plt.figure()\n",
    "df.groupby(\"MONTH\").sum()[\"NUMBER OF CYCLIST INJURED\"].plot.bar(figsize=(10,6));\n",
    "plt.title(\"Monthly sum of injuries\", size = 16)\n",
    "plt.ylabel(\"Number of injuries\", size = 16);\n",
    "plt.xlabel(\"Month\", size=16)\n",
    "plt.xticks(size=16)\n",
    "plt.yticks(size=16)\n",
    "plt.show()\n",
    "\n",
    "plt.figure()\n",
    "df.groupby(\"MONTH\").sum()[\"NUMBER OF CYCLIST KILLED\"].plot.bar(figsize=(10,6));\n",
    "plt.title(\"Monthly sum of deaths\", size = 16)\n",
    "plt.ylabel(\"Number of fatalities\", size = 16);\n",
    "plt.xlabel(\"Month\", size=16)\n",
    "plt.xticks(size=16)\n",
    "plt.yticks(size=16)\n",
    "plt.show()"
   ]
  },
  {
   "cell_type": "code",
   "execution_count": null,
   "metadata": {},
   "outputs": [],
   "source": [
    "# Monday is day 0\n",
    "plt.figure()\n",
    "df.groupby(\"DAY_OF_WEEK\").sum()[\"NUMBER OF CYCLIST INJURED\"].plot.bar(figsize=(10,6));\n",
    "plt.title(\"Number of injuries by day\", size = 16)\n",
    "plt.xlabel(\"Day of week (0 = Monday)\", size = 16);\n",
    "plt.ylabel(\"Number of injuries\", size = 16);\n",
    "plt.xticks(size=16);\n",
    "plt.yticks(size=16);\n",
    "plt.show()\n",
    "\n",
    "plt.figure()\n",
    "df.groupby(\"DAY_OF_WEEK\").sum()[\"NUMBER OF CYCLIST KILLED\"].plot.bar(figsize=(10,6));\n",
    "plt.title(\"Number of fatalities by day\", size = 16)\n",
    "plt.xlabel(\"Day of week (0 = Monday)\", size = 16);\n",
    "plt.ylabel(\"Number of fatalities\", size = 16);\n",
    "plt.xticks(size=16);\n",
    "plt.yticks(size=16);\n",
    "plt.show()"
   ]
  },
  {
   "cell_type": "code",
   "execution_count": null,
   "metadata": {},
   "outputs": [],
   "source": [
    "# Hour of day\n",
    "plt.figure()\n",
    "df.groupby(\"HOUR\").sum()[\"NUMBER OF CYCLIST INJURED\"].plot.bar(figsize=(10,6));\n",
    "plt.title(\"Number of injuries by hour\", size = 16)\n",
    "plt.xlabel(\"Hour (0 = midnight)\", size = 16);\n",
    "plt.ylabel(\"Number of injuries\", size = 16);\n",
    "plt.xticks(size=16);\n",
    "plt.yticks(size=16);\n",
    "plt.show()\n",
    "\n",
    "plt.figure()\n",
    "df.groupby(\"HOUR\").sum()[\"NUMBER OF CYCLIST KILLED\"].plot.bar(figsize=(10,6));\n",
    "plt.title(\"Number of fatalities by day\", size = 16)\n",
    "plt.xlabel(\"Hour (0 = midnight)\", size = 16);\n",
    "plt.ylabel(\"Number of fatalities\", size = 16);\n",
    "plt.xticks(size=16);\n",
    "plt.yticks(size=16);\n",
    "plt.show()"
   ]
  },
  {
   "cell_type": "code",
   "execution_count": null,
   "metadata": {},
   "outputs": [],
   "source": [
    "df.columns"
   ]
  },
  {
   "cell_type": "code",
   "execution_count": null,
   "metadata": {},
   "outputs": [],
   "source": []
  }
 ],
 "metadata": {
  "hide_input": false,
  "kernelspec": {
   "display_name": "Python 3",
   "language": "python",
   "name": "python3"
  },
  "language_info": {
   "codemirror_mode": {
    "name": "ipython",
    "version": 3
   },
   "file_extension": ".py",
   "mimetype": "text/x-python",
   "name": "python",
   "nbconvert_exporter": "python",
   "pygments_lexer": "ipython3",
   "version": "3.8.5"
  },
  "toc": {
   "base_numbering": 1,
   "nav_menu": {},
   "number_sections": true,
   "sideBar": true,
   "skip_h1_title": false,
   "title_cell": "Table of Contents",
   "title_sidebar": "Contents",
   "toc_cell": false,
   "toc_position": {},
   "toc_section_display": true,
   "toc_window_display": false
  }
 },
 "nbformat": 4,
 "nbformat_minor": 4
}
